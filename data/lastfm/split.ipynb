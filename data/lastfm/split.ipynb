{
 "cells": [
  {
   "cell_type": "code",
   "execution_count": null,
   "metadata": {},
   "outputs": [],
   "source": [
    "import pickle\n",
    "import torch\n",
    "torch_dataset = torch.load('lastfm.pkl')"
   ]
  },
  {
   "cell_type": "code",
   "execution_count": 4,
   "metadata": {},
   "outputs": [],
   "source": [
    "new_dataset = []\n",
    "block_size = 512\n",
    "\n",
    "for data in torch_dataset['sequences']:\n",
    "    num_items = len(data['arrival_times'])\n",
    "    for start_idx in range(0, num_items, block_size):\n",
    "        seq = []\n",
    "        for i in range(start_idx, min(start_idx + block_size, num_items)):\n",
    "            elem = {\n",
    "                'type_event': data['marks'][i],\n",
    "                'time_since_start': data['arrival_times'][i],\n",
    "                'time_since_last_event': (\n",
    "                    data['arrival_times'][i] - data['arrival_times'][i-1]\n",
    "                    if i > start_idx\n",
    "                    else 0\n",
    "                ),\n",
    "            }\n",
    "            seq.append(elem)\n",
    "        new_dataset.append(seq)"
   ]
  },
  {
   "cell_type": "code",
   "execution_count": 5,
   "metadata": {},
   "outputs": [],
   "source": [
    "import random\n",
    "random.seed(2024)\n",
    "random.shuffle(new_dataset)\n",
    "\n",
    "alpha1 = 0.7\n",
    "alpha2 = 0.85\n",
    "ind1 = round(len(new_dataset) * alpha1)\n",
    "ind2 = round(len(new_dataset) * alpha2)\n",
    "\n",
    "train_dataset = {\n",
    "    'dim_process': torch_dataset['num_marks'],\n",
    "    'train': new_dataset[:ind1]\n",
    "}\n",
    "\n",
    "dev_dataset = {\n",
    "    'dim_process': torch_dataset['num_marks'],\n",
    "    'dev': new_dataset[ind1:ind2]\n",
    "}\n",
    "\n",
    "test_dataset = {\n",
    "    'dim_process': torch_dataset['num_marks'],\n",
    "    'test': new_dataset[ind2:]\n",
    "}"
   ]
  },
  {
   "cell_type": "code",
   "execution_count": 6,
   "metadata": {},
   "outputs": [],
   "source": [
    "import pickle\n",
    "\n",
    "with open(f\"train.pkl\", \"wb\") as f:\n",
    "    pickle.dump(train_dataset, f)\n",
    "with open(f\"dev.pkl\", \"wb\") as f:\n",
    "    pickle.dump(dev_dataset, f)\n",
    "with open(f\"test.pkl\", \"wb\") as f:\n",
    "    pickle.dump(test_dataset, f)"
   ]
  }
 ],
 "metadata": {
  "kernelspec": {
   "display_name": "kiho",
   "language": "python",
   "name": "kiho"
  },
  "language_info": {
   "codemirror_mode": {
    "name": "ipython",
    "version": 3
   },
   "file_extension": ".py",
   "mimetype": "text/x-python",
   "name": "python",
   "nbconvert_exporter": "python",
   "pygments_lexer": "ipython3",
   "version": "3.12.7"
  }
 },
 "nbformat": 4,
 "nbformat_minor": 2
}
